{
 "cells": [
  {
   "cell_type": "code",
   "execution_count": 2,
   "metadata": {},
   "outputs": [
    {
     "name": "stdout",
     "output_type": "stream",
     "text": [
      "price             13686\n",
      "year               2011\n",
      "manufacturer     subaru\n",
      "make            outback\n",
      "fuel             diesel\n",
      "miles           6024800\n",
      "title_status      clean\n",
      "transmission     manual\n",
      "drive               rwd\n",
      "type            compact\n",
      "paint_color       black\n",
      "Name: 42, dtype: object\n"
     ]
    },
    {
     "data": {
      "text/html": [
       "<div>\n",
       "<style scoped>\n",
       "    .dataframe tbody tr th:only-of-type {\n",
       "        vertical-align: middle;\n",
       "    }\n",
       "\n",
       "    .dataframe tbody tr th {\n",
       "        vertical-align: top;\n",
       "    }\n",
       "\n",
       "    .dataframe thead th {\n",
       "        text-align: right;\n",
       "    }\n",
       "</style>\n",
       "<table border=\"1\" class=\"dataframe\">\n",
       "  <thead>\n",
       "    <tr style=\"text-align: right;\">\n",
       "      <th></th>\n",
       "      <th>price</th>\n",
       "      <th>year</th>\n",
       "      <th>manufacturer</th>\n",
       "      <th>make</th>\n",
       "      <th>fuel</th>\n",
       "      <th>miles</th>\n",
       "      <th>title_status</th>\n",
       "      <th>transmission</th>\n",
       "      <th>drive</th>\n",
       "      <th>type</th>\n",
       "      <th>paint_color</th>\n",
       "    </tr>\n",
       "  </thead>\n",
       "  <tbody>\n",
       "    <tr>\n",
       "      <th>0</th>\n",
       "      <td>22168</td>\n",
       "      <td>2011</td>\n",
       "      <td>mercedes-benz</td>\n",
       "      <td>viano</td>\n",
       "      <td>diesel</td>\n",
       "      <td>203593</td>\n",
       "      <td>rebuilt</td>\n",
       "      <td>manual</td>\n",
       "      <td>fwd</td>\n",
       "      <td>van</td>\n",
       "      <td>black</td>\n",
       "    </tr>\n",
       "    <tr>\n",
       "      <th>1</th>\n",
       "      <td>9437</td>\n",
       "      <td>2011</td>\n",
       "      <td>ford</td>\n",
       "      <td>s-max</td>\n",
       "      <td>diesel</td>\n",
       "      <td>137316</td>\n",
       "      <td>rebuilt</td>\n",
       "      <td>manual</td>\n",
       "      <td>fwd</td>\n",
       "      <td>van</td>\n",
       "      <td>black</td>\n",
       "    </tr>\n",
       "    <tr>\n",
       "      <th>2</th>\n",
       "      <td>1073</td>\n",
       "      <td>2002</td>\n",
       "      <td>hyundai</td>\n",
       "      <td>matrix</td>\n",
       "      <td>gas</td>\n",
       "      <td>182000</td>\n",
       "      <td>rebuilt</td>\n",
       "      <td>manual</td>\n",
       "      <td>fwd</td>\n",
       "      <td>van</td>\n",
       "      <td>black</td>\n",
       "    </tr>\n",
       "    <tr>\n",
       "      <th>3</th>\n",
       "      <td>1846</td>\n",
       "      <td>2012</td>\n",
       "      <td>chrysler</td>\n",
       "      <td>town-country</td>\n",
       "      <td>gas</td>\n",
       "      <td>122800</td>\n",
       "      <td>clean</td>\n",
       "      <td>manual</td>\n",
       "      <td>fwd</td>\n",
       "      <td>van</td>\n",
       "      <td>black</td>\n",
       "    </tr>\n",
       "    <tr>\n",
       "      <th>4</th>\n",
       "      <td>3515</td>\n",
       "      <td>2006</td>\n",
       "      <td>fiat</td>\n",
       "      <td>doblo</td>\n",
       "      <td>diesel</td>\n",
       "      <td>155623</td>\n",
       "      <td>clean</td>\n",
       "      <td>manual</td>\n",
       "      <td>4wd</td>\n",
       "      <td>van</td>\n",
       "      <td>black</td>\n",
       "    </tr>\n",
       "    <tr>\n",
       "      <th>...</th>\n",
       "      <td>...</td>\n",
       "      <td>...</td>\n",
       "      <td>...</td>\n",
       "      <td>...</td>\n",
       "      <td>...</td>\n",
       "      <td>...</td>\n",
       "      <td>...</td>\n",
       "      <td>...</td>\n",
       "      <td>...</td>\n",
       "      <td>...</td>\n",
       "      <td>...</td>\n",
       "    </tr>\n",
       "    <tr>\n",
       "      <th>994</th>\n",
       "      <td>462</td>\n",
       "      <td>2007</td>\n",
       "      <td>citroen</td>\n",
       "      <td>c3</td>\n",
       "      <td>gas</td>\n",
       "      <td>764905</td>\n",
       "      <td>clean</td>\n",
       "      <td>manual</td>\n",
       "      <td>fwd</td>\n",
       "      <td>compact</td>\n",
       "      <td>black</td>\n",
       "    </tr>\n",
       "    <tr>\n",
       "      <th>995</th>\n",
       "      <td>1665</td>\n",
       "      <td>2000</td>\n",
       "      <td>volvo</td>\n",
       "      <td>v70</td>\n",
       "      <td>gas</td>\n",
       "      <td>300000</td>\n",
       "      <td>rebuilt</td>\n",
       "      <td>manual</td>\n",
       "      <td>fwd</td>\n",
       "      <td>compact</td>\n",
       "      <td>black</td>\n",
       "    </tr>\n",
       "    <tr>\n",
       "      <th>996</th>\n",
       "      <td>3663</td>\n",
       "      <td>2006</td>\n",
       "      <td>opel</td>\n",
       "      <td>zafira</td>\n",
       "      <td>gas</td>\n",
       "      <td>94000</td>\n",
       "      <td>clean</td>\n",
       "      <td>manual</td>\n",
       "      <td>fwd</td>\n",
       "      <td>compact</td>\n",
       "      <td>black</td>\n",
       "    </tr>\n",
       "    <tr>\n",
       "      <th>997</th>\n",
       "      <td>1295</td>\n",
       "      <td>1360</td>\n",
       "      <td>citroen</td>\n",
       "      <td>xsara</td>\n",
       "      <td>gas</td>\n",
       "      <td>150000</td>\n",
       "      <td>clean</td>\n",
       "      <td>manual</td>\n",
       "      <td>rwd</td>\n",
       "      <td>compact</td>\n",
       "      <td>black</td>\n",
       "    </tr>\n",
       "    <tr>\n",
       "      <th>998</th>\n",
       "      <td>268</td>\n",
       "      <td>2005</td>\n",
       "      <td>citroen</td>\n",
       "      <td>xsara-picasso</td>\n",
       "      <td>gas</td>\n",
       "      <td>5176000</td>\n",
       "      <td>clean</td>\n",
       "      <td>manual</td>\n",
       "      <td>4wd</td>\n",
       "      <td>compact</td>\n",
       "      <td>black</td>\n",
       "    </tr>\n",
       "  </tbody>\n",
       "</table>\n",
       "<p>999 rows × 11 columns</p>\n",
       "</div>"
      ],
      "text/plain": [
       "     price  year   manufacturer           make    fuel    miles title_status  \\\n",
       "0    22168  2011  mercedes-benz          viano  diesel   203593      rebuilt   \n",
       "1     9437  2011           ford          s-max  diesel   137316      rebuilt   \n",
       "2     1073  2002        hyundai         matrix     gas   182000      rebuilt   \n",
       "3     1846  2012       chrysler   town-country     gas   122800        clean   \n",
       "4     3515  2006           fiat          doblo  diesel   155623        clean   \n",
       "..     ...   ...            ...            ...     ...      ...          ...   \n",
       "994    462  2007        citroen             c3     gas   764905        clean   \n",
       "995   1665  2000          volvo            v70     gas   300000      rebuilt   \n",
       "996   3663  2006           opel         zafira     gas    94000        clean   \n",
       "997   1295  1360        citroen          xsara     gas   150000        clean   \n",
       "998    268  2005        citroen  xsara-picasso     gas  5176000        clean   \n",
       "\n",
       "    transmission drive     type paint_color  \n",
       "0         manual   fwd      van       black  \n",
       "1         manual   fwd      van       black  \n",
       "2         manual   fwd      van       black  \n",
       "3         manual   fwd      van       black  \n",
       "4         manual   4wd      van       black  \n",
       "..           ...   ...      ...         ...  \n",
       "994       manual   fwd  compact       black  \n",
       "995       manual   fwd  compact       black  \n",
       "996       manual   fwd  compact       black  \n",
       "997       manual   rwd  compact       black  \n",
       "998       manual   4wd  compact       black  \n",
       "\n",
       "[999 rows x 11 columns]"
      ]
     },
     "execution_count": 2,
     "metadata": {},
     "output_type": "execute_result"
    }
   ],
   "source": [
    "from typing import Any\n",
    "\n",
    "import pandas as pd\n",
    "\n",
    "import cbrkit\n",
    "query_name = 42\n",
    "casebase_file = \"data/cars-1k.csv\"\n",
    "\n",
    "df = pd.read_csv(casebase_file)\n",
    "casebase = cbrkit.loaders.dataframe(df)\n",
    "query = casebase[query_name]\n",
    "print(query)\n",
    "df"
   ]
  },
  {
   "cell_type": "code",
   "execution_count": 4,
   "metadata": {},
   "outputs": [
    {
     "data": {
      "text/plain": [
       "Result(final=_Result(similarities={42: AttributeValueSim(value=1.0, by_attribute={'manufacturer': 1.0, 'price': 1.0, 'fuel': 1.0, 'drive': 1.0, 'transmission': 1.0, 'title_status': 1.0, 'paint_color': 1.0, 'miles': 1.0, 'type': 1.0, 'year': 1.0, 'make': 1.0}), 204: AttributeValueSim(value=0.726909090909091, by_attribute={'manufacturer': 0.0, 'price': 0.996, 'fuel': 1.0, 'drive': 1.0, 'transmission': 1.0, 'title_status': 1.0, 'paint_color': 1.0, 'miles': 0.0, 'type': 1.0, 'year': 1.0, 'make': 0.0}), 714: AttributeValueSim(value=0.7268754545454545, by_attribute={'manufacturer': 0.0, 'price': 0.99563, 'fuel': 1.0, 'drive': 1.0, 'transmission': 1.0, 'title_status': 1.0, 'paint_color': 1.0, 'miles': 0.0, 'type': 1.0, 'year': 1.0, 'make': 0.0}), 343: AttributeValueSim(value=0.7234418181818182, by_attribute={'manufacturer': 0.0, 'price': 0.97786, 'fuel': 1.0, 'drive': 1.0, 'transmission': 1.0, 'title_status': 1.0, 'paint_color': 1.0, 'miles': 0.0, 'type': 1.0, 'year': 0.98, 'make': 0.0}), 406: AttributeValueSim(value=0.7234418181818182, by_attribute={'manufacturer': 0.0, 'price': 0.97786, 'fuel': 1.0, 'drive': 1.0, 'transmission': 1.0, 'title_status': 1.0, 'paint_color': 1.0, 'miles': 0.0, 'type': 1.0, 'year': 0.98, 'make': 0.0})}, ranking=[42, 204, 714, 343, 406], casebase={42: price             13686\n",
       "year               2011\n",
       "manufacturer     subaru\n",
       "make            outback\n",
       "fuel             diesel\n",
       "miles           6024800\n",
       "title_status      clean\n",
       "transmission     manual\n",
       "drive               rwd\n",
       "type            compact\n",
       "paint_color       black\n",
       "Name: 42, dtype: object, 204: price             13286\n",
       "year               2011\n",
       "manufacturer      skoda\n",
       "make             superb\n",
       "fuel             diesel\n",
       "miles             98392\n",
       "title_status      clean\n",
       "transmission     manual\n",
       "drive               rwd\n",
       "type            compact\n",
       "paint_color       black\n",
       "Name: 204, dtype: object, 714: price             13249\n",
       "year               2011\n",
       "manufacturer       ford\n",
       "make             galaxy\n",
       "fuel             diesel\n",
       "miles            158288\n",
       "title_status      clean\n",
       "transmission     manual\n",
       "drive               rwd\n",
       "type            compact\n",
       "paint_color       black\n",
       "Name: 714, dtype: object, 343: price             11472\n",
       "year               2010\n",
       "manufacturer    hyundai\n",
       "make               ix35\n",
       "fuel             diesel\n",
       "miles            147296\n",
       "title_status      clean\n",
       "transmission     manual\n",
       "drive               rwd\n",
       "type            compact\n",
       "paint_color       black\n",
       "Name: 343, dtype: object, 406: price             11472\n",
       "year               2010\n",
       "manufacturer    hyundai\n",
       "make               ix35\n",
       "fuel             diesel\n",
       "miles            147296\n",
       "title_status      clean\n",
       "transmission     manual\n",
       "drive               rwd\n",
       "type            compact\n",
       "paint_color       black\n",
       "Name: 406, dtype: object}), intermediate=[_Result(similarities={42: AttributeValueSim(value=1.0, by_attribute={'manufacturer': 1.0, 'price': 1.0, 'fuel': 1.0, 'drive': 1.0, 'transmission': 1.0, 'title_status': 1.0, 'paint_color': 1.0, 'miles': 1.0, 'type': 1.0, 'year': 1.0, 'make': 1.0}), 204: AttributeValueSim(value=0.726909090909091, by_attribute={'manufacturer': 0.0, 'price': 0.996, 'fuel': 1.0, 'drive': 1.0, 'transmission': 1.0, 'title_status': 1.0, 'paint_color': 1.0, 'miles': 0.0, 'type': 1.0, 'year': 1.0, 'make': 0.0}), 714: AttributeValueSim(value=0.7268754545454545, by_attribute={'manufacturer': 0.0, 'price': 0.99563, 'fuel': 1.0, 'drive': 1.0, 'transmission': 1.0, 'title_status': 1.0, 'paint_color': 1.0, 'miles': 0.0, 'type': 1.0, 'year': 1.0, 'make': 0.0}), 343: AttributeValueSim(value=0.7234418181818182, by_attribute={'manufacturer': 0.0, 'price': 0.97786, 'fuel': 1.0, 'drive': 1.0, 'transmission': 1.0, 'title_status': 1.0, 'paint_color': 1.0, 'miles': 0.0, 'type': 1.0, 'year': 0.98, 'make': 0.0}), 406: AttributeValueSim(value=0.7234418181818182, by_attribute={'manufacturer': 0.0, 'price': 0.97786, 'fuel': 1.0, 'drive': 1.0, 'transmission': 1.0, 'title_status': 1.0, 'paint_color': 1.0, 'miles': 0.0, 'type': 1.0, 'year': 0.98, 'make': 0.0})}, ranking=[42, 204, 714, 343, 406], casebase={42: price             13686\n",
       "year               2011\n",
       "manufacturer     subaru\n",
       "make            outback\n",
       "fuel             diesel\n",
       "miles           6024800\n",
       "title_status      clean\n",
       "transmission     manual\n",
       "drive               rwd\n",
       "type            compact\n",
       "paint_color       black\n",
       "Name: 42, dtype: object, 204: price             13286\n",
       "year               2011\n",
       "manufacturer      skoda\n",
       "make             superb\n",
       "fuel             diesel\n",
       "miles             98392\n",
       "title_status      clean\n",
       "transmission     manual\n",
       "drive               rwd\n",
       "type            compact\n",
       "paint_color       black\n",
       "Name: 204, dtype: object, 714: price             13249\n",
       "year               2011\n",
       "manufacturer       ford\n",
       "make             galaxy\n",
       "fuel             diesel\n",
       "miles            158288\n",
       "title_status      clean\n",
       "transmission     manual\n",
       "drive               rwd\n",
       "type            compact\n",
       "paint_color       black\n",
       "Name: 714, dtype: object, 343: price             11472\n",
       "year               2010\n",
       "manufacturer    hyundai\n",
       "make               ix35\n",
       "fuel             diesel\n",
       "miles            147296\n",
       "title_status      clean\n",
       "transmission     manual\n",
       "drive               rwd\n",
       "type            compact\n",
       "paint_color       black\n",
       "Name: 343, dtype: object, 406: price             11472\n",
       "year               2010\n",
       "manufacturer    hyundai\n",
       "make               ix35\n",
       "fuel             diesel\n",
       "miles            147296\n",
       "title_status      clean\n",
       "transmission     manual\n",
       "drive               rwd\n",
       "type            compact\n",
       "paint_color       black\n",
       "Name: 406, dtype: object})])"
      ]
     },
     "execution_count": 4,
     "metadata": {},
     "output_type": "execute_result"
    }
   ],
   "source": [
    "retriever = cbrkit.retrieval.build(\n",
    "    cbrkit.global_sim.attribute_value(\n",
    "        attributes={\n",
    "            \"price\": cbrkit.sim.numeric.linear(max=100000),\n",
    "            \"year\": cbrkit.sim.numeric.linear(max=50),\n",
    "            \"manufacturer\": cbrkit.sim.taxonomy.load(\n",
    "                \"./data/cars-taxonomy.yaml\",\n",
    "                measure=cbrkit.sim.taxonomy.wu_palmer(),\n",
    "            ),\n",
    "            # TODO: needs nlp extra to be available during tests\n",
    "            # \"make\": cbrkit.data_sim.strings.levenshtein(),\n",
    "            \"miles\": cbrkit.sim.numeric.linear(max=1000000),\n",
    "        },\n",
    "        types_fallback=cbrkit.sim.generic.equality(),\n",
    "        aggregator=cbrkit.global_sim.aggregator(pooling=\"mean\"),\n",
    "    ),\n",
    "    limit=5,\n",
    ")\n",
    "result = cbrkit.retrieval.apply(casebase, query, retriever)\n",
    "result"
   ]
  },
  {
   "cell_type": "code",
   "execution_count": 5,
   "metadata": {},
   "outputs": [
    {
     "data": {
      "text/plain": [
       "Result(final=_Result(similarities={42: AttributeValueSim(value=1.0, by_attribute={'price': 1.0, 'year': 1.0, 'model': AttributeValueSim(value=1.0, by_attribute={'manufacturer': 1.0, 'make': 1.0})}), 499: AttributeValueSim(value=0.8137366666666667, by_attribute={'price': 0.96121, 'year': 0.98, 'model': AttributeValueSim(value=0.5, by_attribute={'manufacturer': 1.0, 'make': 0.0})}), 221: AttributeValueSim(value=0.7765633333333333, by_attribute={'price': 0.86969, 'year': 0.96, 'model': AttributeValueSim(value=0.5, by_attribute={'manufacturer': 1.0, 'make': 0.0})}), 512: AttributeValueSim(value=0.7744733333333333, by_attribute={'price': 0.98342, 'year': 0.84, 'model': AttributeValueSim(value=0.5, by_attribute={'manufacturer': 1.0, 'make': 0.0})}), 600: AttributeValueSim(value=0.7673333333333333, by_attribute={'price': 0.902, 'year': 0.9, 'model': AttributeValueSim(value=0.5, by_attribute={'manufacturer': 1.0, 'make': 0.0})})}, ranking=[42, 499, 221, 512, 600], casebase={42: {'engine': {'drive': 'rwd', 'fuel': 'diesel', 'transmission': 'manual'}, 'miles': 6024800, 'model': {'make': 'outback', 'manufacturer': 'subaru'}, 'paint_color': 'black', 'price': 13686, 'title_status': 'clean', 'type': 'compact', 'year': 2011}, 499: {'engine': {'drive': 'fwd', 'fuel': 'gas', 'transmission': 'manual'}, 'miles': 150000, 'model': {'make': 'forester', 'manufacturer': 'subaru'}, 'paint_color': 'black', 'price': 9807, 'title_status': 'rebuilt', 'type': 'compact', 'year': 2010}, 221: {'engine': {'drive': 'fwd', 'fuel': 'diesel', 'transmission': 'manual'}, 'miles': 195000, 'model': {'make': 'legacy', 'manufacturer': 'subaru'}, 'paint_color': 'black', 'price': 655, 'title_status': 'rebuilt', 'type': 'compact', 'year': 2009}, 512: {'engine': {'drive': 'rwd', 'fuel': 'gas', 'transmission': 'manual'}, 'miles': 134000, 'model': {'make': 'impreza', 'manufacturer': 'subaru'}, 'paint_color': 'black', 'price': 12028, 'title_status': 'clean', 'type': 'compact', 'year': 2003}, 600: {'engine': {'drive': '4wd', 'fuel': 'gas', 'transmission': 'manual'}, 'miles': 147600, 'model': {'make': 'legacy', 'manufacturer': 'subaru'}, 'paint_color': 'black', 'price': 3886, 'title_status': 'clean', 'type': 'compact', 'year': 2006}}), intermediate=[_Result(similarities={42: AttributeValueSim(value=1.0, by_attribute={'price': 1.0, 'year': 1.0, 'model': AttributeValueSim(value=1.0, by_attribute={'manufacturer': 1.0, 'make': 1.0})}), 499: AttributeValueSim(value=0.8137366666666667, by_attribute={'price': 0.96121, 'year': 0.98, 'model': AttributeValueSim(value=0.5, by_attribute={'manufacturer': 1.0, 'make': 0.0})}), 221: AttributeValueSim(value=0.7765633333333333, by_attribute={'price': 0.86969, 'year': 0.96, 'model': AttributeValueSim(value=0.5, by_attribute={'manufacturer': 1.0, 'make': 0.0})}), 512: AttributeValueSim(value=0.7744733333333333, by_attribute={'price': 0.98342, 'year': 0.84, 'model': AttributeValueSim(value=0.5, by_attribute={'manufacturer': 1.0, 'make': 0.0})}), 600: AttributeValueSim(value=0.7673333333333333, by_attribute={'price': 0.902, 'year': 0.9, 'model': AttributeValueSim(value=0.5, by_attribute={'manufacturer': 1.0, 'make': 0.0})})}, ranking=[42, 499, 221, 512, 600], casebase={42: {'engine': {'drive': 'rwd', 'fuel': 'diesel', 'transmission': 'manual'}, 'miles': 6024800, 'model': {'make': 'outback', 'manufacturer': 'subaru'}, 'paint_color': 'black', 'price': 13686, 'title_status': 'clean', 'type': 'compact', 'year': 2011}, 499: {'engine': {'drive': 'fwd', 'fuel': 'gas', 'transmission': 'manual'}, 'miles': 150000, 'model': {'make': 'forester', 'manufacturer': 'subaru'}, 'paint_color': 'black', 'price': 9807, 'title_status': 'rebuilt', 'type': 'compact', 'year': 2010}, 221: {'engine': {'drive': 'fwd', 'fuel': 'diesel', 'transmission': 'manual'}, 'miles': 195000, 'model': {'make': 'legacy', 'manufacturer': 'subaru'}, 'paint_color': 'black', 'price': 655, 'title_status': 'rebuilt', 'type': 'compact', 'year': 2009}, 512: {'engine': {'drive': 'rwd', 'fuel': 'gas', 'transmission': 'manual'}, 'miles': 134000, 'model': {'make': 'impreza', 'manufacturer': 'subaru'}, 'paint_color': 'black', 'price': 12028, 'title_status': 'clean', 'type': 'compact', 'year': 2003}, 600: {'engine': {'drive': '4wd', 'fuel': 'gas', 'transmission': 'manual'}, 'miles': 147600, 'model': {'make': 'legacy', 'manufacturer': 'subaru'}, 'paint_color': 'black', 'price': 3886, 'title_status': 'clean', 'type': 'compact', 'year': 2006}})])"
      ]
     },
     "execution_count": 5,
     "metadata": {},
     "output_type": "execute_result"
    }
   ],
   "source": [
    "query_name = 42\n",
    "casebase_file = \"data/cars-1k.yaml\"\n",
    "\n",
    "casebase: dict[int, Any] = cbrkit.loaders.yaml(casebase_file)\n",
    "query = casebase[query_name]\n",
    "retriever = cbrkit.retrieval.build(\n",
    "    cbrkit.global_sim.attribute_value(\n",
    "        attributes={\n",
    "            \"price\": cbrkit.sim.numeric.linear(max=100000),\n",
    "            \"year\": cbrkit.sim.numeric.linear(max=50),\n",
    "            \"model\": cbrkit.global_sim.attribute_value(\n",
    "                attributes={\n",
    "                    \"make\": cbrkit.sim.generic.equality(),\n",
    "                    \"manufacturer\": cbrkit.sim.taxonomy.load(\n",
    "                        \"./data/cars-taxonomy.yaml\",\n",
    "                        measure=cbrkit.sim.taxonomy.wu_palmer(),\n",
    "                    ),\n",
    "                }\n",
    "            ),\n",
    "        },\n",
    "        aggregator=cbrkit.global_sim.aggregator(pooling=\"mean\"),\n",
    "    ),\n",
    "    limit=5,\n",
    ")\n",
    "result = cbrkit.retrieval.apply(casebase, query, retriever)\n",
    "result"
   ]
  },
  {
   "cell_type": "code",
   "execution_count": 6,
   "metadata": {},
   "outputs": [
    {
     "data": {
      "text/plain": [
       "0.9"
      ]
     },
     "execution_count": 6,
     "metadata": {},
     "output_type": "execute_result"
    }
   ],
   "source": [
    "sim = cbrkit.sim.numeric.linear(max=100)\n",
    "sim(50, 60)"
   ]
  },
  {
   "cell_type": "code",
   "execution_count": 8,
   "metadata": {},
   "outputs": [
    {
     "data": {
      "text/plain": [
       "0.0"
      ]
     },
     "execution_count": 8,
     "metadata": {},
     "output_type": "execute_result"
    }
   ],
   "source": [
    "sim = cbrkit.sim.numeric.threshold(10)\n",
    "sim(50, 61)"
   ]
  },
  {
   "cell_type": "code",
   "execution_count": 9,
   "metadata": {},
   "outputs": [
    {
     "data": {
      "text/plain": [
       "0.36787944117144233"
      ]
     },
     "execution_count": 9,
     "metadata": {},
     "output_type": "execute_result"
    }
   ],
   "source": [
    "sim = cbrkit.sim.numeric.exponential(0.1)\n",
    "sim(50, 60)"
   ]
  },
  {
   "cell_type": "code",
   "execution_count": 19,
   "metadata": {},
   "outputs": [
    {
     "data": {
      "text/plain": [
       "0.8807970779778823"
      ]
     },
     "execution_count": 19,
     "metadata": {},
     "output_type": "execute_result"
    }
   ],
   "source": [
    "sim = cbrkit.sim.numeric.sigmoid(1, 10)\n",
    "sim(50, 60)\n",
    "sim(50,58)"
   ]
  },
  {
   "cell_type": "code",
   "execution_count": 22,
   "metadata": {},
   "outputs": [
    {
     "data": {
      "text/plain": [
       "0.0"
      ]
     },
     "execution_count": 22,
     "metadata": {},
     "output_type": "execute_result"
    }
   ],
   "source": [
    "sim = cbrkit.sim.generic.table([(\"a\", \"b\", 0.5), (\"b\", \"c\", .7)], True, 0.0)\n",
    "sim(\"a\", \"c\")"
   ]
  },
  {
   "cell_type": "code",
   "execution_count": 6,
   "metadata": {},
   "outputs": [
    {
     "data": {
      "text/plain": [
       "0.746031746031746"
      ]
     },
     "execution_count": 6,
     "metadata": {},
     "output_type": "execute_result"
    }
   ],
   "source": [
    "sim = cbrkit.sim.strings.jaro()\n",
    "sim(\"kitten\", \"sitting\")"
   ]
  }
 ],
 "metadata": {
  "kernelspec": {
   "display_name": "cbrkit-UkcsBsUC-py3.11",
   "language": "python",
   "name": "python3"
  },
  "language_info": {
   "codemirror_mode": {
    "name": "ipython",
    "version": 3
   },
   "file_extension": ".py",
   "mimetype": "text/x-python",
   "name": "python",
   "nbconvert_exporter": "python",
   "pygments_lexer": "ipython3",
   "version": "3.11.7"
  }
 },
 "nbformat": 4,
 "nbformat_minor": 2
}
